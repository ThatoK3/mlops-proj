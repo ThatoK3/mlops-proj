{
 "cells": [
  {
   "cell_type": "code",
   "execution_count": 1,
   "id": "b94410de-f008-46da-96c5-4336268e59e7",
   "metadata": {},
   "outputs": [],
   "source": [
    "from pyspark.sql import SparkSession\n",
    "import os\n",
    "\n",
    "spark = (\n",
    "    SparkSession.builder\n",
    "    .appName(\"S3AvroAnalytics\")\n",
    "    .config(\"spark.jars\", \"/drivers/postgresql-42.5.0.jar\")\n",
    "    .getOrCreate()\n",
    ")"
   ]
  },
  {
   "cell_type": "code",
   "execution_count": 2,
   "id": "f3d270c5-33c8-4f9f-b353-14ceec1d9691",
   "metadata": {},
   "outputs": [],
   "source": [
    "from pyspark.sql import functions as F, Window"
   ]
  },
  {
   "cell_type": "code",
   "execution_count": 3,
   "id": "74149c18-2273-4f41-acb5-d0a999fdbc7c",
   "metadata": {},
   "outputs": [],
   "source": [
    "# Configure S3\n",
    "hadoop_conf = spark._jsc.hadoopConfiguration()\n",
    "hadoop_conf.set(\"fs.s3a.access.key\", os.getenv(\"AWS_ACCESS_KEY_ID\"))\n",
    "hadoop_conf.set(\"fs.s3a.secret.key\", os.getenv(\"AWS_SECRET_ACCESS_KEY\"))\n",
    "hadoop_conf.set(\"fs.s3a.endpoint\", \"s3.amazonaws.com\")\n",
    "hadoop_conf.set(\"fs.s3a.impl\", \"org.apache.hadoop.fs.s3a.S3AFileSystem\")"
   ]
  },
  {
   "cell_type": "code",
   "execution_count": 4,
   "id": "e17bc6e7-8e6b-4b48-bac9-a5189ecaf804",
   "metadata": {},
   "outputs": [],
   "source": [
    "# Read Avro files from S3\n",
    "input_path = \"s3a://mlops-dbz-sink/topics/dbserver1.stroke_predictions.predictions/\"\n",
    "df = spark.read.format(\"avro\").load(input_path)"
   ]
  },
  {
   "cell_type": "code",
   "execution_count": 5,
   "id": "e2045361-4a18-446f-9cbc-726018101e7a",
   "metadata": {},
   "outputs": [
    {
     "name": "stdout",
     "output_type": "stream",
     "text": [
      "root\n",
      " |-- before: struct (nullable = true)\n",
      " |    |-- id: integer (nullable = true)\n",
      " |    |-- timestamp: long (nullable = true)\n",
      " |    |-- gender: string (nullable = true)\n",
      " |    |-- age: double (nullable = true)\n",
      " |    |-- hypertension: integer (nullable = true)\n",
      " |    |-- heart_disease: integer (nullable = true)\n",
      " |    |-- avg_glucose_level: double (nullable = true)\n",
      " |    |-- bmi: double (nullable = true)\n",
      " |    |-- smoking_status: string (nullable = true)\n",
      " |    |-- name: string (nullable = true)\n",
      " |    |-- country: string (nullable = true)\n",
      " |    |-- province: string (nullable = true)\n",
      " |    |-- probability: double (nullable = true)\n",
      " |    |-- risk_category: string (nullable = true)\n",
      " |    |-- contributing_factors: string (nullable = true)\n",
      " |    |-- prediction_data: string (nullable = true)\n",
      " |-- after: struct (nullable = true)\n",
      " |    |-- id: integer (nullable = true)\n",
      " |    |-- timestamp: long (nullable = true)\n",
      " |    |-- gender: string (nullable = true)\n",
      " |    |-- age: double (nullable = true)\n",
      " |    |-- hypertension: integer (nullable = true)\n",
      " |    |-- heart_disease: integer (nullable = true)\n",
      " |    |-- avg_glucose_level: double (nullable = true)\n",
      " |    |-- bmi: double (nullable = true)\n",
      " |    |-- smoking_status: string (nullable = true)\n",
      " |    |-- name: string (nullable = true)\n",
      " |    |-- country: string (nullable = true)\n",
      " |    |-- province: string (nullable = true)\n",
      " |    |-- probability: double (nullable = true)\n",
      " |    |-- risk_category: string (nullable = true)\n",
      " |    |-- contributing_factors: string (nullable = true)\n",
      " |    |-- prediction_data: string (nullable = true)\n",
      " |-- source: struct (nullable = true)\n",
      " |    |-- version: string (nullable = true)\n",
      " |    |-- connector: string (nullable = true)\n",
      " |    |-- name: string (nullable = true)\n",
      " |    |-- ts_ms: long (nullable = true)\n",
      " |    |-- snapshot: string (nullable = true)\n",
      " |    |-- db: string (nullable = true)\n",
      " |    |-- sequence: string (nullable = true)\n",
      " |    |-- table: string (nullable = true)\n",
      " |    |-- server_id: long (nullable = true)\n",
      " |    |-- gtid: string (nullable = true)\n",
      " |    |-- file: string (nullable = true)\n",
      " |    |-- pos: long (nullable = true)\n",
      " |    |-- row: integer (nullable = true)\n",
      " |    |-- thread: long (nullable = true)\n",
      " |    |-- query: string (nullable = true)\n",
      " |-- op: string (nullable = true)\n",
      " |-- ts_ms: long (nullable = true)\n",
      " |-- transaction: struct (nullable = true)\n",
      " |    |-- id: string (nullable = true)\n",
      " |    |-- total_order: long (nullable = true)\n",
      " |    |-- data_collection_order: long (nullable = true)\n",
      " |-- partition: integer (nullable = true)\n",
      "\n",
      "+------+----------------------------------------------------------------------------------------------------------------------------------------------------------------------------------------------------------------------------------------------------------------------------------------------------------------------------------------------------------------------------------------------------------------------------------------------------------------------------------------------------------------------------+----------------------------------------------------------------------------------------------------------------------------------------------+---+-------------+-----------+---------+\n",
      "|before|after                                                                                                                                                                                                                                                                                                                                                                                                                                                                                                                       |source                                                                                                                                        |op |ts_ms        |transaction|partition|\n",
      "+------+----------------------------------------------------------------------------------------------------------------------------------------------------------------------------------------------------------------------------------------------------------------------------------------------------------------------------------------------------------------------------------------------------------------------------------------------------------------------------------------------------------------------------+----------------------------------------------------------------------------------------------------------------------------------------------+---+-------------+-----------+---------+\n",
      "|NULL  |{2561, 1756909501000, Female, 40.0, 0, 0, 87.69999694824219, 29.799999237060547, smokes, Sierra Mayo, South Africa, Northern Cape, 0.20912599563598633, Low, [\"Feature importance not available\"], {\"age\": 40.0, \"bmi\": 29.8, \"name\": \"Sierra Mayo\", \"gender\": \"Female\", \"country\": \"South Africa\", \"province\": \"Northern Cape\", \"age_group\": null, \"bmi_category\": null, \"hypertension\": 0, \"heart_disease\": 0, \"smoking_status\": \"smokes\", \"age_hypertension\": null, \"glucose_category\": null, \"avg_glucose_level\": 87.7}}|{1.9.7.Final, mysql, dbserver1, 1758131396000, true, stroke_predictions, NULL, predictions, 0, NULL, mysql-bin.000003, 2338212, 0, NULL, NULL}|r  |1758131401449|NULL       |0        |\n",
      "+------+----------------------------------------------------------------------------------------------------------------------------------------------------------------------------------------------------------------------------------------------------------------------------------------------------------------------------------------------------------------------------------------------------------------------------------------------------------------------------------------------------------------------------+----------------------------------------------------------------------------------------------------------------------------------------------+---+-------------+-----------+---------+\n",
      "only showing top 1 row\n",
      "\n"
     ]
    }
   ],
   "source": [
    "df.printSchema()\n",
    "df.show(1, truncate=False)"
   ]
  },
  {
   "cell_type": "code",
   "execution_count": 6,
   "id": "ebf4effc-383b-4877-bcb6-fd3360d890d4",
   "metadata": {},
   "outputs": [
    {
     "data": {
      "text/plain": [
       "['before', 'after', 'source', 'op', 'ts_ms', 'transaction', 'partition']"
      ]
     },
     "execution_count": 6,
     "metadata": {},
     "output_type": "execute_result"
    }
   ],
   "source": [
    "df.columns"
   ]
  },
  {
   "cell_type": "code",
   "execution_count": 7,
   "id": "89a1ec50-a6e8-4442-b5e8-3a4c453486f3",
   "metadata": {},
   "outputs": [
    {
     "name": "stdout",
     "output_type": "stream",
     "text": [
      "+---+-----+\n",
      "| op|count|\n",
      "+---+-----+\n",
      "|  r| 4608|\n",
      "+---+-----+\n",
      "\n"
     ]
    }
   ],
   "source": [
    "# 1️ Analytic: Count events by operation type\n",
    "op_counts = df.groupBy(\"op\").count()\n",
    "op_counts.show()"
   ]
  },
  {
   "cell_type": "code",
   "execution_count": 8,
   "id": "986b5d66-d5ae-45c8-9ee4-97bcd1605dd5",
   "metadata": {},
   "outputs": [],
   "source": [
    "# 2️ Analytic: Get final state of each prediction (latest by ts_ms)\n",
    "# Flatten the 'after' struct for easier use\n",
    "after_df = df.filter(df.after.isNotNull()).select(\n",
    "    df.after.id.alias(\"id\"),\n",
    "    df.after.age.alias(\"age\"),\n",
    "    df.after.bmi.alias(\"bmi\"),\n",
    "    df.after.gender.alias(\"gender\"),\n",
    "    df.after.country.alias(\"country\"),\n",
    "    df.after.province.alias(\"province\"),\n",
    "    df.after.hypertension.alias(\"hypertension\"),\n",
    "    df.after.heart_disease.alias(\"heart_disease\"),\n",
    "    df.after.smoking_status.alias(\"smoking_status\"),\n",
    "    df.after.avg_glucose_level.alias(\"avg_glucose_level\"),\n",
    "    df.after.probability.alias(\"probability\"),\n",
    "    df.after.risk_category.alias(\"risk_category\"),\n",
    "    df.op,\n",
    "    df.ts_ms\n",
    ")"
   ]
  },
  {
   "cell_type": "code",
   "execution_count": 9,
   "id": "ded1fe76-81fe-40e9-9674-06d8d7db2232",
   "metadata": {},
   "outputs": [],
   "source": [
    "# Window function to get latest ts_ms per id\n",
    "window = Window.partitionBy(\"id\").orderBy(F.col(\"ts_ms\").desc())"
   ]
  },
  {
   "cell_type": "code",
   "execution_count": 10,
   "id": "00691b7c-114f-4490-9fcb-16af753da527",
   "metadata": {},
   "outputs": [],
   "source": [
    "latest_stroke_predictions = (\n",
    "    after_df.withColumn(\"rn\", F.row_number().over(window))\n",
    "    .filter(F.col(\"rn\") == 1)\n",
    "    .drop(\"rn\")\n",
    ")"
   ]
  },
  {
   "cell_type": "code",
   "execution_count": 11,
   "id": "ce33d381-b2fc-486d-978c-41300787fc85",
   "metadata": {},
   "outputs": [
    {
     "name": "stdout",
     "output_type": "stream",
     "text": [
      "+---+----+------------------+------+--------------+------------+------------+-------------+---------------+------------------+-------------------+-------------+---+-------------+\n",
      "|id |age |bmi               |gender|country       |province    |hypertension|heart_disease|smoking_status |avg_glucose_level |probability        |risk_category|op |ts_ms        |\n",
      "+---+----+------------------+------+--------------+------------+------------+-------------+---------------+------------------+-------------------+-------------+---+-------------+\n",
      "|1  |45.5|26.799999237060547|Male  |United States |California  |0           |0            |never smoked   |95.19999694824219 |0.27587899565696716|Low          |r  |1758131396734|\n",
      "|2  |67.0|32.099998474121094|Female|Canada        |Ontario     |1           |1            |formerly smoked|145.8000030517578 |0.772845983505249  |High         |r  |1758131396804|\n",
      "|3  |35.0|22.299999237060547|Other |United Kingdom|London      |0           |0            |never smoked   |88.5              |0.15056799352169037|Low          |r  |1758131396805|\n",
      "|4  |60.0|22.0              |Male  |South Africa  |Eastern Cape|0           |1            |never smoked   |118.69999694824219|0.6188279986381531 |Medium       |r  |1758131396805|\n",
      "|5  |51.0|19.399999618530273|Female|South Africa  |Western Cape|1           |0            |never smoked   |102.5999984741211 |0.45586198568344116|Medium       |r  |1758131396806|\n",
      "+---+----+------------------+------+--------------+------------+------------+-------------+---------------+------------------+-------------------+-------------+---+-------------+\n",
      "only showing top 5 rows\n",
      "\n"
     ]
    }
   ],
   "source": [
    "latest_stroke_predictions.show(5, truncate=False)"
   ]
  },
  {
   "cell_type": "code",
   "execution_count": 12,
   "id": "781ca740-e8db-45a5-ad42-8ae8170af02e",
   "metadata": {},
   "outputs": [],
   "source": [
    "output_counts = \"s3a://mlops-dbz-sink/analytics/stroke_predictions_op_counts/\"\n",
    "output_latest = \"s3a://mlops-dbz-sink/analytics/stroke_predictions_latest/\""
   ]
  },
  {
   "cell_type": "code",
   "execution_count": 13,
   "id": "e2be1e48-52f4-464e-9c89-693212cae1f9",
   "metadata": {},
   "outputs": [],
   "source": [
    "op_counts.write.mode(\"overwrite\").parquet(output_counts)\n",
    "latest_stroke_predictions.write.mode(\"overwrite\").parquet(output_latest)"
   ]
  },
  {
   "cell_type": "code",
   "execution_count": 14,
   "id": "5e9ea4ea-7a66-48a8-995d-10be593d2140",
   "metadata": {},
   "outputs": [
    {
     "name": "stdout",
     "output_type": "stream",
     "text": [
      "Operation counts written to s3a://mlops-dbz-sink/analytics/stroke_predictions_op_counts/\n",
      "Latest customers snapshot written to s3a://mlops-dbz-sink/analytics/stroke_predictions_latest/\n"
     ]
    }
   ],
   "source": [
    "print(f\"Operation counts written to {output_counts}\")\n",
    "print(f\"Latest customers snapshot written to {output_latest}\")"
   ]
  },
  {
   "cell_type": "code",
   "execution_count": 15,
   "id": "ab459960-6643-4954-a22f-30b06c1129ba",
   "metadata": {},
   "outputs": [],
   "source": [
    "latest_stroke_predictions.createOrReplaceTempView(\"stroke_predictions\")"
   ]
  },
  {
   "cell_type": "code",
   "execution_count": 16,
   "id": "33408451-4d5b-495e-8a77-4ef2d0c9b6bd",
   "metadata": {},
   "outputs": [],
   "source": [
    "overall_distribution_by_risk_category = spark.sql(\"\"\"\n",
    "SELECT risk_category, \n",
    "       ROUND(100.0 * COUNT(*) / SUM(COUNT(*)) OVER(), 2) AS pct\n",
    "FROM stroke_predictions\n",
    "GROUP BY risk_category;\n",
    "\"\"\")"
   ]
  },
  {
   "cell_type": "code",
   "execution_count": 17,
   "id": "ebd069f2-d880-4076-b96e-95c37de21177",
   "metadata": {},
   "outputs": [
    {
     "name": "stdout",
     "output_type": "stream",
     "text": [
      "+-------------+-----+\n",
      "|risk_category|pct  |\n",
      "+-------------+-----+\n",
      "|High         |27.91|\n",
      "|Low          |38.72|\n",
      "|Medium       |33.38|\n",
      "+-------------+-----+\n",
      "\n"
     ]
    }
   ],
   "source": [
    "overall_distribution_by_risk_category.show(5, truncate=False)"
   ]
  },
  {
   "cell_type": "code",
   "execution_count": 18,
   "id": "759aa14f-d6db-4ba1-b374-44d4ed2b00fa",
   "metadata": {},
   "outputs": [],
   "source": [
    "stroke_probability_bins = spark.sql(\"\"\"\n",
    "SELECT \n",
    "    CASE \n",
    "        WHEN probability < 0.2 THEN '0.0 - 0.2'\n",
    "        WHEN probability < 0.4 THEN '0.2 - 0.4'\n",
    "        WHEN probability < 0.6 THEN '0.4 - 0.6'\n",
    "        WHEN probability < 0.8 THEN '0.6 - 0.8'\n",
    "        ELSE '0.8 - 1.0'\n",
    "    END AS prob_bucket,\n",
    "    COUNT(*) AS total\n",
    "FROM stroke_predictions\n",
    "GROUP BY CASE \n",
    "            WHEN probability < 0.2 THEN '0.0 - 0.2'\n",
    "            WHEN probability < 0.4 THEN '0.2 - 0.4'\n",
    "            WHEN probability < 0.6 THEN '0.4 - 0.6'\n",
    "            WHEN probability < 0.8 THEN '0.6 - 0.8'\n",
    "            ELSE '0.8 - 1.0'\n",
    "         END;\n",
    "\"\"\")"
   ]
  },
  {
   "cell_type": "code",
   "execution_count": 19,
   "id": "034c01e2-4af8-4996-8243-f508c727d81d",
   "metadata": {},
   "outputs": [
    {
     "name": "stdout",
     "output_type": "stream",
     "text": [
      "+-----------+-----+\n",
      "|prob_bucket|total|\n",
      "+-----------+-----+\n",
      "|0.4 - 0.6  |651  |\n",
      "|0.2 - 0.4  |985  |\n",
      "|0.8 - 1.0  |723  |\n",
      "|0.6 - 0.8  |1059 |\n",
      "|0.0 - 0.2  |1190 |\n",
      "+-----------+-----+\n",
      "\n"
     ]
    }
   ],
   "source": [
    "stroke_probability_bins.show(5, truncate=False)"
   ]
  },
  {
   "cell_type": "code",
   "execution_count": 20,
   "id": "746b1ebf-bc0d-4e23-9f6a-7c7a1245af77",
   "metadata": {},
   "outputs": [],
   "source": [
    "risk_by_gender = spark.sql(\"\"\"\n",
    "SELECT \n",
    "    gender,\n",
    "    SUM(CASE WHEN risk_category = 'High' THEN 1 ELSE 0 END) AS high_risk,\n",
    "    SUM(CASE WHEN risk_category = 'Medium' THEN 1 ELSE 0 END) AS medium_risk,\n",
    "    SUM(CASE WHEN risk_category = 'Low' THEN 1 ELSE 0 END) AS low_risk\n",
    "FROM stroke_predictions\n",
    "WHERE gender!='Other'\n",
    "GROUP BY gender\n",
    "ORDER BY gender;\n",
    "\"\"\")"
   ]
  },
  {
   "cell_type": "code",
   "execution_count": 21,
   "id": "1381a950-e94a-40dd-bb80-58b11d5021a3",
   "metadata": {},
   "outputs": [
    {
     "name": "stdout",
     "output_type": "stream",
     "text": [
      "+------+---------+-----------+--------+\n",
      "|gender|high_risk|medium_risk|low_risk|\n",
      "+------+---------+-----------+--------+\n",
      "|Female|633      |784        |883     |\n",
      "|Male  |653      |754        |900     |\n",
      "+------+---------+-----------+--------+\n",
      "\n"
     ]
    }
   ],
   "source": [
    "risk_by_gender.show(5, truncate=False)"
   ]
  },
  {
   "cell_type": "code",
   "execution_count": 22,
   "id": "66c133e5-129d-4c1a-9501-7b902792f106",
   "metadata": {},
   "outputs": [],
   "source": [
    "risk_by_age_group = spark.sql(\"\"\"\n",
    "SELECT \n",
    "    CASE \n",
    "        WHEN age < 30 THEN 'Under 30'\n",
    "        WHEN age BETWEEN 30 AND 45 THEN '30-45'\n",
    "        WHEN age BETWEEN 46 AND 60 THEN '46-60'\n",
    "        ELSE '60+'\n",
    "    END AS age_group,\n",
    "    risk_category,\n",
    "    COUNT(*) AS total\n",
    "FROM stroke_predictions\n",
    "GROUP BY \n",
    "    CASE \n",
    "        WHEN age < 30 THEN 'Under 30'\n",
    "        WHEN age BETWEEN 30 AND 45 THEN '30-45'\n",
    "        WHEN age BETWEEN 46 AND 60 THEN '46-60'\n",
    "        ELSE '60+'\n",
    "    END,\n",
    "    risk_category;\n",
    "\n",
    "\"\"\")"
   ]
  },
  {
   "cell_type": "code",
   "execution_count": 23,
   "id": "4b1d4aad-d586-4e9c-85e9-a49c61b50111",
   "metadata": {
    "scrolled": true
   },
   "outputs": [
    {
     "name": "stdout",
     "output_type": "stream",
     "text": [
      "+---------+-------------+-----+\n",
      "|age_group|risk_category|total|\n",
      "+---------+-------------+-----+\n",
      "|60+      |High         |1285 |\n",
      "|46-60    |Low          |44   |\n",
      "|46-60    |Medium       |951  |\n",
      "|Under 30 |Low          |836  |\n",
      "|30-45    |Low          |903  |\n",
      "+---------+-------------+-----+\n",
      "only showing top 5 rows\n",
      "\n"
     ]
    }
   ],
   "source": [
    "risk_by_age_group.show(5, truncate=False)"
   ]
  },
  {
   "cell_type": "code",
   "execution_count": 24,
   "id": "5655965c-fead-42ee-b9ea-dbfdd1dcec5b",
   "metadata": {},
   "outputs": [],
   "source": [
    "province_hotspots = spark.sql(\"\"\"\n",
    "SELECT \n",
    "    province,\n",
    "    SUM(CASE WHEN risk_category = 'High' THEN 1 ELSE 0 END) AS high_risk,\n",
    "    SUM(CASE WHEN risk_category = 'Medium' THEN 1 ELSE 0 END) AS medium_risk,\n",
    "    SUM(CASE WHEN risk_category = 'Low' THEN 1 ELSE 0 END) AS low_risk\n",
    "FROM stroke_predictions\n",
    "WHERE country = 'South Africa'\n",
    "GROUP BY province\n",
    "ORDER BY province;\n",
    "\"\"\")"
   ]
  },
  {
   "cell_type": "code",
   "execution_count": 25,
   "id": "aeda043d-fb51-4b43-8ed3-7fb2da35bc4e",
   "metadata": {},
   "outputs": [
    {
     "name": "stdout",
     "output_type": "stream",
     "text": [
      "+-------------+---------+-----------+--------+\n",
      "|province     |high_risk|medium_risk|low_risk|\n",
      "+-------------+---------+-----------+--------+\n",
      "|Eastern Cape |147      |170        |222     |\n",
      "|Free State   |142      |195        |180     |\n",
      "|Gauteng      |144      |166        |203     |\n",
      "|KwaZulu-Natal|141      |159        |172     |\n",
      "|Limpopo      |126      |154        |212     |\n",
      "+-------------+---------+-----------+--------+\n",
      "only showing top 5 rows\n",
      "\n"
     ]
    }
   ],
   "source": [
    "province_hotspots.show(5, truncate=False)"
   ]
  },
  {
   "cell_type": "code",
   "execution_count": 26,
   "id": "61cc387a-0318-4c3f-bf39-b55bb8dae000",
   "metadata": {},
   "outputs": [],
   "source": [
    "hypertension_heart_disease_correlation=spark.sql(\"\"\"\n",
    "SELECT \n",
    "    hypertension,\n",
    "    heart_disease,\n",
    "    SUM(CASE WHEN risk_category = 'Low' THEN 1 ELSE 0 END)    AS low_risk,\n",
    "    CAST(100.0 * SUM(CASE WHEN risk_category = 'Low' THEN 1 ELSE 0 END) \n",
    "         / COUNT(*) AS DECIMAL(5,2)) AS low_pct,\n",
    "    \n",
    "    SUM(CASE WHEN risk_category = 'Medium' THEN 1 ELSE 0 END) AS medium_risk,\n",
    "    CAST(100.0 * SUM(CASE WHEN risk_category = 'Medium' THEN 1 ELSE 0 END) \n",
    "         / COUNT(*) AS DECIMAL(5,2)) AS medium_pct,\n",
    "    \n",
    "    SUM(CASE WHEN risk_category = 'High' THEN 1 ELSE 0 END)   AS high_risk,\n",
    "    CAST(100.0 * SUM(CASE WHEN risk_category = 'High' THEN 1 ELSE 0 END) \n",
    "         / COUNT(*) AS DECIMAL(5,2)) AS high_pct,\n",
    "    \n",
    "    COUNT(*) AS total\n",
    "FROM stroke_predictions\n",
    "GROUP BY hypertension, heart_disease\n",
    "ORDER BY hypertension, heart_disease;\n",
    "\"\"\")"
   ]
  },
  {
   "cell_type": "code",
   "execution_count": 27,
   "id": "deb64b63-2512-4e26-8246-a4154272fcc8",
   "metadata": {},
   "outputs": [
    {
     "name": "stdout",
     "output_type": "stream",
     "text": [
      "+------------+-------------+--------+-------+-----------+----------+---------+--------+-----+\n",
      "|hypertension|heart_disease|low_risk|low_pct|medium_risk|medium_pct|high_risk|high_pct|total|\n",
      "+------------+-------------+--------+-------+-----------+----------+---------+--------+-----+\n",
      "|0           |0            |531     |48.14  |348        |31.55     |224      |20.31   |1103 |\n",
      "|0           |1            |435     |37.40  |388        |33.36     |340      |29.23   |1163 |\n",
      "|1           |0            |438     |37.47  |409        |34.99     |322      |27.54   |1169 |\n",
      "|1           |1            |380     |32.40  |393        |33.50     |400      |34.10   |1173 |\n",
      "+------------+-------------+--------+-------+-----------+----------+---------+--------+-----+\n",
      "\n"
     ]
    }
   ],
   "source": [
    "hypertension_heart_disease_correlation.show(5, truncate=False)"
   ]
  },
  {
   "cell_type": "code",
   "execution_count": 28,
   "id": "11b8cdce-e8ad-4797-a55a-b92e9910da9b",
   "metadata": {},
   "outputs": [],
   "source": [
    "bmi_vs_risk=spark.sql(\"\"\"\n",
    "SELECT \n",
    "    CASE \n",
    "        WHEN bmi < 18.5 THEN 'Underweight'\n",
    "        WHEN bmi < 25 THEN 'Healthy'\n",
    "        WHEN bmi < 30 THEN 'Overweight'\n",
    "        ELSE 'Obese'\n",
    "    END AS bmi_category,\n",
    "    risk_category,\n",
    "    COUNT(*) AS total,\n",
    "    CAST(\n",
    "        100.0 * COUNT(*) \n",
    "        / SUM(COUNT(*)) OVER (\n",
    "            PARTITION BY \n",
    "                CASE \n",
    "                    WHEN bmi < 18.5 THEN 'Underweight'\n",
    "                    WHEN bmi < 25 THEN 'Healthy'\n",
    "                    WHEN bmi < 30 THEN 'Overweight'\n",
    "                    ELSE 'Obese'\n",
    "                END\n",
    "        ) \n",
    "        AS DECIMAL(5,2)\n",
    "    ) AS pct\n",
    "FROM stroke_predictions\n",
    "GROUP BY \n",
    "    CASE \n",
    "        WHEN bmi < 18.5 THEN 'Underweight'\n",
    "        WHEN bmi < 25 THEN 'Healthy'\n",
    "        WHEN bmi < 30 THEN 'Overweight'\n",
    "        ELSE 'Obese'\n",
    "    END,\n",
    "    risk_category\n",
    "ORDER BY bmi_category, risk_category;\n",
    "\n",
    "\"\"\")"
   ]
  },
  {
   "cell_type": "code",
   "execution_count": 29,
   "id": "c599c243-3981-43e9-938b-2f30be9bdc77",
   "metadata": {},
   "outputs": [
    {
     "name": "stdout",
     "output_type": "stream",
     "text": [
      "+------------+-------------+-----+-----+\n",
      "|bmi_category|risk_category|total|pct  |\n",
      "+------------+-------------+-----+-----+\n",
      "|Healthy     |High         |402  |26.19|\n",
      "|Healthy     |Low          |635  |41.37|\n",
      "|Healthy     |Medium       |498  |32.44|\n",
      "|Obese       |High         |438  |30.44|\n",
      "|Obese       |Low          |500  |34.75|\n",
      "+------------+-------------+-----+-----+\n",
      "only showing top 5 rows\n",
      "\n"
     ]
    }
   ],
   "source": [
    "bmi_vs_risk.show(5 , truncate=False)"
   ]
  },
  {
   "cell_type": "code",
   "execution_count": 30,
   "id": "cdfd2b37-b03b-4ca9-b030-baea47adec24",
   "metadata": {},
   "outputs": [],
   "source": [
    "glucose_level_risk_bands = spark.sql(\"\"\"\n",
    "SELECT \n",
    "    CASE \n",
    "        WHEN avg_glucose_level < 100 THEN 'Normal'\n",
    "        WHEN avg_glucose_level < 126 THEN 'Prediabetic'\n",
    "        ELSE 'Diabetic'\n",
    "    END AS glucose_category,\n",
    "    risk_category,\n",
    "    COUNT(*) AS total,\n",
    "    CAST(\n",
    "        100.0 * COUNT(*) \n",
    "        / SUM(COUNT(*)) OVER (\n",
    "            PARTITION BY \n",
    "                CASE \n",
    "                    WHEN avg_glucose_level < 100 THEN 'Normal'\n",
    "                    WHEN avg_glucose_level < 126 THEN 'Prediabetic'\n",
    "                    ELSE 'Diabetic'\n",
    "                END\n",
    "        )\n",
    "        AS DECIMAL(5,2)\n",
    "    ) AS pct\n",
    "FROM stroke_predictions\n",
    "GROUP BY \n",
    "    CASE \n",
    "        WHEN avg_glucose_level < 100 THEN 'Normal'\n",
    "        WHEN avg_glucose_level < 126 THEN 'Prediabetic'\n",
    "        ELSE 'Diabetic'\n",
    "    END,\n",
    "    risk_category\n",
    "ORDER BY glucose_category, risk_category;  \n",
    "\"\"\")"
   ]
  },
  {
   "cell_type": "code",
   "execution_count": 31,
   "id": "2502e00c-7314-4059-83a6-e8cab51f5691",
   "metadata": {},
   "outputs": [
    {
     "name": "stdout",
     "output_type": "stream",
     "text": [
      "+----------------+-------------+-----+-----+\n",
      "|glucose_category|risk_category|total|pct  |\n",
      "+----------------+-------------+-----+-----+\n",
      "|Diabetic        |High         |478  |39.18|\n",
      "|Diabetic        |Low          |343  |28.11|\n",
      "|Diabetic        |Medium       |399  |32.70|\n",
      "|Normal          |High         |201  |17.12|\n",
      "|Normal          |Low          |601  |51.19|\n",
      "+----------------+-------------+-----+-----+\n",
      "only showing top 5 rows\n",
      "\n"
     ]
    }
   ],
   "source": [
    "glucose_level_risk_bands.show(5, truncate=False)"
   ]
  },
  {
   "cell_type": "code",
   "execution_count": 32,
   "id": "f812cee3-4780-4c29-82d2-afe695b4f944",
   "metadata": {},
   "outputs": [],
   "source": [
    "extreme_bmi_or_glucose_with_low_risk_potential_misclassification_flag = spark.sql(\"\"\"\n",
    "SELECT id, age, bmi, avg_glucose_level, probability, risk_category\n",
    "FROM stroke_predictions\n",
    "WHERE (bmi > 35 OR avg_glucose_level > 150)\n",
    "  AND risk_category = 'Low';\n",
    "\"\"\")"
   ]
  },
  {
   "cell_type": "code",
   "execution_count": 33,
   "id": "0b00330f-0486-4212-bc57-a0bf0ac5a093",
   "metadata": {},
   "outputs": [
    {
     "name": "stdout",
     "output_type": "stream",
     "text": [
      "+---+----+------------------+------------------+-------------------+-------------+\n",
      "|id |age |bmi               |avg_glucose_level |probability        |risk_category|\n",
      "+---+----+------------------+------------------+-------------------+-------------+\n",
      "|255|20.0|21.799999237060547|159.8000030517578 |0.12815499305725098|Low          |\n",
      "|260|36.0|24.200000762939453|154.60000610351562|0.2779709994792938 |Low          |\n",
      "|295|20.0|37.29999923706055 |110.0             |0.07099340111017227|Low          |\n",
      "|529|19.0|35.5              |134.60000610351562|0.11188499629497528|Low          |\n",
      "|552|30.0|37.0              |72.9000015258789  |0.10963000357151031|Low          |\n",
      "+---+----+------------------+------------------+-------------------+-------------+\n",
      "only showing top 5 rows\n",
      "\n"
     ]
    }
   ],
   "source": [
    "extreme_bmi_or_glucose_with_low_risk_potential_misclassification_flag.show(5, truncate=False)"
   ]
  },
  {
   "cell_type": "code",
   "execution_count": 34,
   "id": "c5e737f4-5e6e-48ec-9ec6-e4364bb5293d",
   "metadata": {},
   "outputs": [],
   "source": [
    "top_10_highest_probability_cases=spark.sql(\"\"\"\n",
    "SELECT id, age, gender, probability, risk_category\n",
    "FROM stroke_predictions\n",
    "ORDER BY probability DESC\n",
    "LIMIT 10;  \n",
    "\"\"\")"
   ]
  },
  {
   "cell_type": "code",
   "execution_count": 35,
   "id": "9d3e4b45-7c1a-479f-b1dd-8c5a74a6ffa9",
   "metadata": {},
   "outputs": [
    {
     "name": "stdout",
     "output_type": "stream",
     "text": [
      "+----+----+------+------------------+-------------+\n",
      "|id  |age |gender|probability       |risk_category|\n",
      "+----+----+------+------------------+-------------+\n",
      "|2567|85.0|Female|0.9199600219726562|High         |\n",
      "|559 |85.0|Female|0.919743001461029 |High         |\n",
      "|1181|85.0|Female|0.9187309741973877|High         |\n",
      "|2788|84.0|Female|0.9177759885787964|High         |\n",
      "|3826|85.0|Male  |0.9163039922714233|High         |\n",
      "|4475|84.0|Female|0.9162330031394958|High         |\n",
      "|3152|85.0|Male  |0.9137960076332092|High         |\n",
      "|1197|85.0|Male  |0.9132140278816223|High         |\n",
      "|53  |85.0|Female|0.9131709933280945|High         |\n",
      "|1572|85.0|Male  |0.9124510288238525|High         |\n",
      "+----+----+------+------------------+-------------+\n",
      "\n"
     ]
    }
   ],
   "source": [
    "top_10_highest_probability_cases.show(10, truncate=False)"
   ]
  },
  {
   "cell_type": "code",
   "execution_count": 48,
   "id": "64125767-61c4-4bdb-8bd5-b8e66b9532bc",
   "metadata": {},
   "outputs": [],
   "source": [
    "# PostgreSQL connection configuration\n",
    "postgres_host = \"18.208.221.9\"\n",
    "postgres_port = \"5432\"\n",
    "postgres_db = \"analytics_db\"\n",
    "postgres_user = \"analytics_user\"\n",
    "postgres_password = \"analytics_pass\" "
   ]
  },
  {
   "cell_type": "code",
   "execution_count": 49,
   "id": "b4aa551c-120f-4537-9177-a0fa5d709594",
   "metadata": {},
   "outputs": [],
   "source": [
    "postgres_url = f\"jdbc:postgresql://{postgres_host}:{postgres_port}/{postgres_db}\"\n",
    "postgres_properties = {\n",
    "    \"user\": postgres_user,\n",
    "    \"password\": postgres_password,\n",
    "    \"driver\": \"org.postgresql.Driver\"\n",
    "}"
   ]
  },
  {
   "cell_type": "code",
   "execution_count": 52,
   "id": "f5c2c9a3-6f5c-4774-8a20-20c1d8c00fd1",
   "metadata": {},
   "outputs": [],
   "source": [
    "def write_spark_df_to_postgresql(spark_df, table_name, mode=\"replace\"):\n",
    "    \"\"\"\n",
    "    Write Spark DataFrame to PostgreSQL using psycopg2 and sqlalchemy\n",
    "    Modes: 'replace', 'append'\n",
    "    \"\"\"\n",
    "    try:\n",
    "        # Convert Spark DataFrame to Pandas\n",
    "        pandas_df = spark_df.toPandas()\n",
    "        \n",
    "        # Create SQLAlchemy engine\n",
    "        from sqlalchemy import create_engine\n",
    "        engine = create_engine(f'postgresql://{postgres_user}:{postgres_password}@{postgres_host}:{postgres_port}/{postgres_db}')\n",
    "        \n",
    "        # Write Pandas DataFrame to PostgreSQL\n",
    "        pandas_df.to_sql(table_name, engine, if_exists=mode, index=False)\n",
    "        \n",
    "        print(f\"Successfully wrote {pandas_df.shape[0]} rows to {table_name}\")\n",
    "    except Exception as e:\n",
    "        print(f\"Error writing to {table_name}: {str(e)}\")\n",
    "        raise"
   ]
  },
  {
   "cell_type": "code",
   "execution_count": 54,
   "id": "3d14151d-ba12-45a1-a2b3-4ba552911fd1",
   "metadata": {},
   "outputs": [
    {
     "name": "stdout",
     "output_type": "stream",
     "text": [
      "Successfully wrote 1 rows to stroke_analytics_op_counts\n"
     ]
    }
   ],
   "source": [
    "write_spark_df_to_postgresql(op_counts, \"stroke_analytics_op_counts\", mode=\"replace\")"
   ]
  },
  {
   "cell_type": "code",
   "execution_count": 55,
   "id": "27de13a4-0bdc-47ec-995a-02b96421c47f",
   "metadata": {},
   "outputs": [
    {
     "name": "stdout",
     "output_type": "stream",
     "text": [
      "Successfully wrote 3 rows to stroke_analytics_risk_distribution\n"
     ]
    }
   ],
   "source": [
    "write_spark_df_to_postgresql(overall_distribution_by_risk_category, \"stroke_analytics_risk_distribution\", mode=\"replace\")"
   ]
  },
  {
   "cell_type": "code",
   "execution_count": 56,
   "id": "250b507c-7675-4f8c-a76c-b4e67d9e176a",
   "metadata": {},
   "outputs": [
    {
     "name": "stdout",
     "output_type": "stream",
     "text": [
      "Successfully wrote 5 rows to stroke_analytics_probability_bins\n"
     ]
    }
   ],
   "source": [
    "write_spark_df_to_postgresql(stroke_probability_bins, \"stroke_analytics_probability_bins\", mode=\"replace\")"
   ]
  },
  {
   "cell_type": "code",
   "execution_count": 57,
   "id": "c1512421-70e2-4d89-b68f-b548ac4bbd35",
   "metadata": {},
   "outputs": [
    {
     "name": "stdout",
     "output_type": "stream",
     "text": [
      "Successfully wrote 2 rows to stroke_analytics_risk_by_gender\n"
     ]
    }
   ],
   "source": [
    "write_spark_df_to_postgresql(risk_by_gender, \"stroke_analytics_risk_by_gender\", mode=\"replace\")"
   ]
  },
  {
   "cell_type": "code",
   "execution_count": 58,
   "id": "aca66e04-19c5-42cb-ad2e-68b531930e14",
   "metadata": {},
   "outputs": [
    {
     "name": "stdout",
     "output_type": "stream",
     "text": [
      "Successfully wrote 9 rows to stroke_analytics_risk_by_age_group\n"
     ]
    }
   ],
   "source": [
    "write_spark_df_to_postgresql(risk_by_age_group, \"stroke_analytics_risk_by_age_group\", mode=\"replace\")"
   ]
  },
  {
   "cell_type": "code",
   "execution_count": 59,
   "id": "b8a9f904-1690-4772-b6e2-26d458f2d0a2",
   "metadata": {},
   "outputs": [
    {
     "name": "stdout",
     "output_type": "stream",
     "text": [
      "Successfully wrote 9 rows to stroke_analytics_province_hotspots\n"
     ]
    }
   ],
   "source": [
    "write_spark_df_to_postgresql(province_hotspots, \"stroke_analytics_province_hotspots\", mode=\"replace\")"
   ]
  },
  {
   "cell_type": "code",
   "execution_count": 60,
   "id": "a0c94a72-7f2e-41da-82a6-8b6b9caccf2e",
   "metadata": {},
   "outputs": [
    {
     "name": "stdout",
     "output_type": "stream",
     "text": [
      "Successfully wrote 4 rows to stroke_analytics_hypertension_heart_correlation\n"
     ]
    }
   ],
   "source": [
    "write_spark_df_to_postgresql(hypertension_heart_disease_correlation, \"stroke_analytics_hypertension_heart_correlation\", mode=\"replace\")"
   ]
  },
  {
   "cell_type": "code",
   "execution_count": 61,
   "id": "01255ef2-bbd0-4a66-bf7d-04676199fdad",
   "metadata": {},
   "outputs": [
    {
     "name": "stdout",
     "output_type": "stream",
     "text": [
      "Successfully wrote 12 rows to stroke_analytics_bmi_vs_risk\n"
     ]
    }
   ],
   "source": [
    "write_spark_df_to_postgresql(bmi_vs_risk, \"stroke_analytics_bmi_vs_risk\", mode=\"replace\")"
   ]
  },
  {
   "cell_type": "code",
   "execution_count": 62,
   "id": "8a27c5f5-9859-439b-b792-85cf96a3fa3c",
   "metadata": {},
   "outputs": [
    {
     "name": "stdout",
     "output_type": "stream",
     "text": [
      "Successfully wrote 9 rows to stroke_analytics_glucose_risk_bands\n"
     ]
    }
   ],
   "source": [
    "write_spark_df_to_postgresql(glucose_level_risk_bands, \"stroke_analytics_glucose_risk_bands\", mode=\"replace\")"
   ]
  },
  {
   "cell_type": "code",
   "execution_count": null,
   "id": "458bbceb-a3c7-481f-b3ba-284109cc1b6a",
   "metadata": {},
   "outputs": [],
   "source": []
  }
 ],
 "metadata": {
  "kernelspec": {
   "display_name": "Python 3 (ipykernel)",
   "language": "python",
   "name": "python3"
  },
  "language_info": {
   "codemirror_mode": {
    "name": "ipython",
    "version": 3
   },
   "file_extension": ".py",
   "mimetype": "text/x-python",
   "name": "python",
   "nbconvert_exporter": "python",
   "pygments_lexer": "ipython3",
   "version": "3.11.6"
  }
 },
 "nbformat": 4,
 "nbformat_minor": 5
}
